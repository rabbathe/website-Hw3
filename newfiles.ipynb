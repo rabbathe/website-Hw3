{
 "cells": [
  {
   "cell_type": "code",
   "execution_count": 1,
   "id": "16f59615-d377-45e1-b895-06b34a1b7e3c",
   "metadata": {},
   "outputs": [],
   "source": [
    "import pandas as pd\n",
    "\n",
    "# Read the main CSV\n",
    "df = pd.read_csv(\"socialMedia.csv\")\n",
    "\n",
    "# ------------------------------------------------------------\n",
    "# 1) Create socialMediaAvg.csv\n",
    "#    This file should have columns: Platform, PostType, AvgLikes\n",
    "#    showing the average Likes per Platform and PostType.\n",
    "# ------------------------------------------------------------\n",
    "df_avg = df.groupby([\"Platform\", \"PostType\"], as_index=False)[\"Likes\"].mean()\n",
    "df_avg.rename(columns={\"Likes\": \"AvgLikes\"}, inplace=True)\n",
    "\n",
    "# Optionally round to 2 decimals\n",
    "df_avg[\"AvgLikes\"] = df_avg[\"AvgLikes\"].round(2)\n",
    "\n",
    "# Save to CSV\n",
    "df_avg.to_csv(\"socialMediaAvg.csv\", index=False)\n",
    "\n",
    "\n",
    "# ------------------------------------------------------------\n",
    "# 2) Create socialMediaTime.csv\n",
    "#    This file should have columns: Date, AvgLikes\n",
    "#    showing the average Likes per Date.\n",
    "# ------------------------------------------------------------\n",
    "df_time = df.groupby(\"Date\", as_index=False)[\"Likes\"].mean()\n",
    "df_time.rename(columns={\"Likes\": \"AvgLikes\"}, inplace=True)\n",
    "\n",
    "# Optionally round to 2 decimals\n",
    "df_time[\"AvgLikes\"] = df_time[\"AvgLikes\"].round(2)\n",
    "\n",
    "# Save to CSV\n",
    "df_time.to_csv(\"socialMediaTime.csv\", index=False)\n"
   ]
  },
  {
   "cell_type": "code",
   "execution_count": null,
   "id": "59881881-5731-438a-b4c0-0202f3a9b0d1",
   "metadata": {},
   "outputs": [],
   "source": []
  }
 ],
 "metadata": {
  "kernelspec": {
   "display_name": "Python 3 (ipykernel)",
   "language": "python",
   "name": "python3"
  },
  "language_info": {
   "codemirror_mode": {
    "name": "ipython",
    "version": 3
   },
   "file_extension": ".py",
   "mimetype": "text/x-python",
   "name": "python",
   "nbconvert_exporter": "python",
   "pygments_lexer": "ipython3",
   "version": "3.12.2"
  }
 },
 "nbformat": 4,
 "nbformat_minor": 5
}
